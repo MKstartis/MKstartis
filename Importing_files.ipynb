{
 "cells": [
  {
   "cell_type": "code",
   "execution_count": 19,
   "id": "8429c046",
   "metadata": {},
   "outputs": [],
   "source": [
    "import pandas as pd\n",
    "import numpy as np\n",
    "from scipy.stats import mode\n",
    "import seaborn as sns\n"
   ]
  },
  {
   "cell_type": "code",
   "execution_count": 20,
   "id": "07672a5c",
   "metadata": {},
   "outputs": [],
   "source": [
    "math = pd.read_csv(\"C:/Users/Hoseo/Downloads/students.csv\", usecols=[5])"
   ]
  },
  {
   "cell_type": "code",
   "execution_count": 21,
   "id": "e556cf6e",
   "metadata": {},
   "outputs": [
    {
     "name": "stderr",
     "output_type": "stream",
     "text": [
      "C:\\Users\\Hoseo\\anaconda3\\lib\\site-packages\\numpy\\core\\fromnumeric.py:3438: FutureWarning: In a future version, DataFrame.mean(axis=None) will return a scalar mean over the entire DataFrame. To retain the old behavior, use 'frame.mean(axis=0)' or just 'frame.mean()'\n",
      "  return mean(axis=axis, dtype=dtype, out=out, **kwargs)\n"
     ]
    },
    {
     "data": {
      "text/plain": [
       "math score    66.089\n",
       "dtype: float64"
      ]
     },
     "execution_count": 21,
     "metadata": {},
     "output_type": "execute_result"
    }
   ],
   "source": [
    "np.mean(math)"
   ]
  },
  {
   "cell_type": "code",
   "execution_count": 22,
   "id": "7ebd24d5",
   "metadata": {},
   "outputs": [
    {
     "data": {
      "text/plain": [
       "66.0"
      ]
     },
     "execution_count": 22,
     "metadata": {},
     "output_type": "execute_result"
    }
   ],
   "source": [
    "np.median(math)"
   ]
  },
  {
   "cell_type": "code",
   "execution_count": 23,
   "id": "6df4dc31",
   "metadata": {},
   "outputs": [
    {
     "name": "stderr",
     "output_type": "stream",
     "text": [
      "C:\\Users\\Hoseo\\AppData\\Local\\Temp\\ipykernel_9736\\3858648134.py:1: FutureWarning: Unlike other reduction functions (e.g. `skew`, `kurtosis`), the default behavior of `mode` typically preserves the axis it acts along. In SciPy 1.11.0, this behavior will change: the default value of `keepdims` will become False, the `axis` over which the statistic is taken will be eliminated, and the value None will no longer be accepted. Set `keepdims` to True or False to avoid this warning.\n",
      "  mode(math)\n"
     ]
    },
    {
     "data": {
      "text/plain": [
       "ModeResult(mode=array([[65]], dtype=int64), count=array([[36]]))"
      ]
     },
     "execution_count": 23,
     "metadata": {},
     "output_type": "execute_result"
    }
   ],
   "source": [
    "mode(math)"
   ]
  },
  {
   "cell_type": "code",
   "execution_count": 24,
   "id": "d8ca1c5e",
   "metadata": {},
   "outputs": [
    {
     "data": {
      "text/plain": [
       "50.849999999999994"
      ]
     },
     "execution_count": 24,
     "metadata": {},
     "output_type": "execute_result"
    }
   ],
   "source": [
    "np.percentile(math, 15)"
   ]
  },
  {
   "cell_type": "code",
   "execution_count": 25,
   "id": "f8fadfc1",
   "metadata": {},
   "outputs": [],
   "source": [
    "Q1 = np.percentile(math, 25)"
   ]
  },
  {
   "cell_type": "code",
   "execution_count": 26,
   "id": "ad1ed2f7",
   "metadata": {},
   "outputs": [
    {
     "data": {
      "text/plain": [
       "57.0"
      ]
     },
     "execution_count": 26,
     "metadata": {},
     "output_type": "execute_result"
    }
   ],
   "source": [
    "Q1"
   ]
  },
  {
   "cell_type": "code",
   "execution_count": 27,
   "id": "179e8bd7",
   "metadata": {},
   "outputs": [],
   "source": [
    "Q2 = np.percentile(math, 75)"
   ]
  },
  {
   "cell_type": "code",
   "execution_count": 28,
   "id": "c65d17dd",
   "metadata": {},
   "outputs": [
    {
     "data": {
      "text/plain": [
       "77.0"
      ]
     },
     "execution_count": 28,
     "metadata": {},
     "output_type": "execute_result"
    }
   ],
   "source": [
    "Q2"
   ]
  },
  {
   "cell_type": "code",
   "execution_count": 29,
   "id": "23ba2720",
   "metadata": {},
   "outputs": [
    {
     "data": {
      "text/plain": [
       "math score    229.689079\n",
       "dtype: float64"
      ]
     },
     "execution_count": 29,
     "metadata": {},
     "output_type": "execute_result"
    }
   ],
   "source": [
    "np.var(math)"
   ]
  },
  {
   "cell_type": "code",
   "execution_count": 30,
   "id": "3c427d12",
   "metadata": {},
   "outputs": [
    {
     "data": {
      "text/plain": [
       "math score    15.155497\n",
       "dtype: float64"
      ]
     },
     "execution_count": 30,
     "metadata": {},
     "output_type": "execute_result"
    }
   ],
   "source": [
    "np.std(math) "
   ]
  },
  {
   "cell_type": "code",
   "execution_count": 31,
   "id": "eaeb5b6b",
   "metadata": {},
   "outputs": [
    {
     "data": {
      "image/png": "[encoded data removed]",
      "text/plain": [
       "<Figure size 640x480 with 1 Axes>"
      ]
     },
     "metadata": {},
     "output_type": "display_data"
    }
   ],
   "source": [
    "ax = sns.boxplot(data = math, orient = 'h')  #data = 이름, orient = 'h or v'"
   ]
  },
  {
   "cell_type": "code",
   "execution_count": 32,
   "id": "cb159394",
   "metadata": {},
   "outputs": [],
   "source": [
    "def abn(list):\n",
    "    abn = []\n",
    "    Q1 = np.percentile(list, 25)\n",
    "    Q3 = np.percentile(list, 75)\n",
    "    IQR = Q3 - Q1\n",
    "    for x in list:\n",
    "        if(x < Q1 - IQR*1.5 or x > Q3 + IQR*1.5):\n",
    "            abn.append(x)\n",
    "    return abn"
   ]
  },
  {
   "cell_type": "code",
   "execution_count": 33,
   "id": "af177491",
   "metadata": {},
   "outputs": [
    {
     "data": {
      "text/plain": [
       "[18, 0, 22, 24, 26, 19, 23, 8]"
      ]
     },
     "execution_count": 33,
     "metadata": {},
     "output_type": "execute_result"
    }
   ],
   "source": [
    "abn(math['math score'])"
   ]
  },
  {
   "cell_type": "code",
   "execution_count": null,
   "id": "297b4deb",
   "metadata": {},
   "outputs": [],
   "source": []
  }
 ],
 "metadata": {
  "kernelspec": {
   "display_name": "Python 3 (ipykernel)",
   "language": "python",
   "name": "python3"
  },
  "language_info": {
   "codemirror_mode": {
    "name": "ipython",
    "version": 3
   },
   "file_extension": ".py",
   "mimetype": "text/x-python",
   "name": "python",
   "nbconvert_exporter": "python",
   "pygments_lexer": "ipython3",
   "version": "3.9.12"
  }
 },
 "nbformat": 4,
 "nbformat_minor": 5
}
